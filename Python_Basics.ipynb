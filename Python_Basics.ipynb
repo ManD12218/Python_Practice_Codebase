{
 "cells": [
  {
   "cell_type": "code",
   "execution_count": 3,
   "id": "b519b804",
   "metadata": {},
   "outputs": [
    {
     "name": "stdout",
     "output_type": "stream",
     "text": [
      "Hello ---------- World\n"
     ]
    }
   ],
   "source": [
    "print('Hello', format('-', '-<10'), 'World') # Practicing Print Commands"
   ]
  },
  {
   "cell_type": "code",
   "execution_count": 5,
   "id": "78076a72",
   "metadata": {},
   "outputs": [
    {
     "name": "stdout",
     "output_type": "stream",
     "text": [
      "Hello World\n"
     ]
    }
   ],
   "source": [
    "print('Hello', 'World')"
   ]
  },
  {
   "cell_type": "code",
   "execution_count": 7,
   "id": "3bc8d888",
   "metadata": {},
   "outputs": [
    {
     "name": "stdout",
     "output_type": "stream",
     "text": [
      "number=10\n"
     ]
    }
   ],
   "source": [
    "print(\"number=\"+str(10))"
   ]
  },
  {
   "cell_type": "code",
   "execution_count": 10,
   "id": "f446a63f",
   "metadata": {},
   "outputs": [
    {
     "name": "stdout",
     "output_type": "stream",
     "text": [
      "number=10\n"
     ]
    }
   ],
   "source": [
    "print(\"number=\"+str(10))"
   ]
  },
  {
   "cell_type": "code",
   "execution_count": 12,
   "id": "b94b505d",
   "metadata": {},
   "outputs": [
    {
     "name": "stdout",
     "output_type": "stream",
     "text": [
      "True\n"
     ]
    }
   ],
   "source": [
    "b_var=True\n",
    "print(b_var)"
   ]
  },
  {
   "cell_type": "code",
   "execution_count": 14,
   "id": "00a19a7d",
   "metadata": {},
   "outputs": [
    {
     "name": "stdout",
     "output_type": "stream",
     "text": [
      "b_var\n"
     ]
    }
   ],
   "source": [
    "print('b_var')"
   ]
  },
  {
   "cell_type": "code",
   "execution_count": 1,
   "id": "f59d1603",
   "metadata": {},
   "outputs": [
    {
     "name": "stdout",
     "output_type": "stream",
     "text": [
      "Whats your name:Abhitesh\n",
      "Whats your age:29\n",
      "your name is Abhitesh and your age is 29\n"
     ]
    }
   ],
   "source": [
    "name=input(\"Whats your name:\")\n",
    "age=input(\"Whats your age:\")\n",
    "print(\"your name is\",name,\"and your age is\",age)"
   ]
  },
  {
   "cell_type": "code",
   "execution_count": 20,
   "id": "ecc21b04",
   "metadata": {},
   "outputs": [
    {
     "ename": "IndentationError",
     "evalue": "unexpected indent (2416970086.py, line 2)",
     "output_type": "error",
     "traceback": [
      "\u001b[1;36m  Input \u001b[1;32mIn [20]\u001b[1;36m\u001b[0m\n\u001b[1;33m    print(\"Your age is\",age)\u001b[0m\n\u001b[1;37m    ^\u001b[0m\n\u001b[1;31mIndentationError\u001b[0m\u001b[1;31m:\u001b[0m unexpected indent\n"
     ]
    }
   ],
   "source": [
    "age=21\n",
    "    print(\"Your age is\",age)"
   ]
  },
  {
   "cell_type": "code",
   "execution_count": 30,
   "id": "038dd0ea",
   "metadata": {},
   "outputs": [
    {
     "name": "stdout",
     "output_type": "stream",
     "text": [
      "Good,morning\n"
     ]
    }
   ],
   "source": [
    "str1=\"Good\"\n",
    "str2=\",morning\"\n",
    "str1+= str2\n",
    "print(str1)"
   ]
  },
  {
   "cell_type": "code",
   "execution_count": 31,
   "id": "1e7c7968",
   "metadata": {},
   "outputs": [
    {
     "name": "stdout",
     "output_type": "stream",
     "text": [
      "-10\n"
     ]
    }
   ],
   "source": [
    "a=10\n",
    "b=5\n",
    "b=-(a)\n",
    "print(b)\n"
   ]
  },
  {
   "cell_type": "code",
   "execution_count": 8,
   "id": "d75e86a9",
   "metadata": {},
   "outputs": [
    {
     "name": "stdout",
     "output_type": "stream",
     "text": [
      "hon is\n",
      "2\n"
     ]
    }
   ],
   "source": [
    "str1=\"python is1 easy123\"\n",
    "print(str1[3:9])\n",
    "print(str1[-2])"
   ]
  },
  {
   "cell_type": "code",
   "execution_count": 1,
   "id": "cd52fa88",
   "metadata": {},
   "outputs": [
    {
     "data": {
      "text/plain": [
       "'1'"
      ]
     },
     "execution_count": 1,
     "metadata": {},
     "output_type": "execute_result"
    }
   ],
   "source": [
    "str(1)"
   ]
  },
  {
   "cell_type": "code",
   "execution_count": 3,
   "id": "83c4629d",
   "metadata": {},
   "outputs": [
    {
     "name": "stdout",
     "output_type": "stream",
     "text": [
      "Enter a number:300\n",
      "The hexadecimal of3000x12c\n"
     ]
    }
   ],
   "source": [
    "x=int(input(\"Enter a number:\"))\n",
    "print(\"The hexadecimal of\"+ str(x) + str(hex(x)))\n"
   ]
  },
  {
   "cell_type": "code",
   "execution_count": 7,
   "id": "08cab5ba",
   "metadata": {},
   "outputs": [
    {
     "name": "stdout",
     "output_type": "stream",
     "text": [
      "Enter the length of triangle:10\n",
      "Enter the base of the triangle:15\n",
      "Enter the last side of the triangle:18\n",
      "Area of the triangle is:75.0\n"
     ]
    }
   ],
   "source": [
    "a=float(input(\"Enter the length of triangle:\"))\n",
    "b=float(input(\"Enter the base of the triangle:\"))\n",
    "c=float(input(\"Enter the last side of the triangle:\"))\n",
    "s=(a+b+c)/2\n",
    "area=((s)*(s-a)*(s-b)*(s-c))**0.5\n",
    "print(\"Area of the triangle is:\" + str(round(area,2)))"
   ]
  },
  {
   "cell_type": "code",
   "execution_count": 8,
   "id": "c2f0f5b7",
   "metadata": {},
   "outputs": [
    {
     "name": "stdout",
     "output_type": "stream",
     "text": [
      "Enter a number:23\n",
      "The unit digit of23is3\n"
     ]
    }
   ],
   "source": [
    "x=int(input(\"Enter a number:\"))\n",
    "y=str(x)[-1]\n",
    "print(\"The unit digit of\" + str(x) + \"is\" + str(y))"
   ]
  },
  {
   "cell_type": "code",
   "execution_count": null,
   "id": "9826639b",
   "metadata": {},
   "outputs": [],
   "source": [
    "Age=int(input(\"Enter your age:\"))\n",
    "if(Age>18):\n",
    " print(\"You are eligible for vote\")\n",
    "print(\"No you are not eligible to vote\")"
   ]
  },
  {
   "cell_type": "code",
   "execution_count": 8,
   "id": "eb2469c8",
   "metadata": {},
   "outputs": [
    {
     "name": "stdout",
     "output_type": "stream",
     "text": [
      "Press a key:5\n",
      "The entered key is a digit\n"
     ]
    }
   ],
   "source": [
    "char_1=input(\"Press a key:\")\n",
    "if(char_1.isalpha()):\n",
    " print(\"The entered key is an alphabet\")\n",
    "if(char_1.isdigit()):\n",
    " print(\"The entered key is a digit\")\n",
    "if(Char_1.isspace()):\n",
    " print(\"The entered key is space\")\n"
   ]
  },
  {
   "cell_type": "code",
   "execution_count": 9,
   "id": "c24ac6f3",
   "metadata": {},
   "outputs": [],
   "source": [
    "import string\n",
    "\n"
   ]
  },
  {
   "cell_type": "code",
   "execution_count": 11,
   "id": "53915415",
   "metadata": {},
   "outputs": [
    {
     "name": "stdout",
     "output_type": "stream",
     "text": [
      "Help on bool object:\n",
      "\n",
      "class bool(int)\n",
      " |  bool(x) -> bool\n",
      " |  \n",
      " |  Returns True when the argument x is true, False otherwise.\n",
      " |  The builtins True and False are the only two instances of the class bool.\n",
      " |  The class bool is a subclass of the class int, and cannot be subclassed.\n",
      " |  \n",
      " |  Method resolution order:\n",
      " |      bool\n",
      " |      int\n",
      " |      object\n",
      " |  \n",
      " |  Methods defined here:\n",
      " |  \n",
      " |  __and__(self, value, /)\n",
      " |      Return self&value.\n",
      " |  \n",
      " |  __or__(self, value, /)\n",
      " |      Return self|value.\n",
      " |  \n",
      " |  __rand__(self, value, /)\n",
      " |      Return value&self.\n",
      " |  \n",
      " |  __repr__(self, /)\n",
      " |      Return repr(self).\n",
      " |  \n",
      " |  __ror__(self, value, /)\n",
      " |      Return value|self.\n",
      " |  \n",
      " |  __rxor__(self, value, /)\n",
      " |      Return value^self.\n",
      " |  \n",
      " |  __xor__(self, value, /)\n",
      " |      Return self^value.\n",
      " |  \n",
      " |  ----------------------------------------------------------------------\n",
      " |  Static methods defined here:\n",
      " |  \n",
      " |  __new__(*args, **kwargs) from builtins.type\n",
      " |      Create and return a new object.  See help(type) for accurate signature.\n",
      " |  \n",
      " |  ----------------------------------------------------------------------\n",
      " |  Methods inherited from int:\n",
      " |  \n",
      " |  __abs__(self, /)\n",
      " |      abs(self)\n",
      " |  \n",
      " |  __add__(self, value, /)\n",
      " |      Return self+value.\n",
      " |  \n",
      " |  __bool__(self, /)\n",
      " |      True if self else False\n",
      " |  \n",
      " |  __ceil__(...)\n",
      " |      Ceiling of an Integral returns itself.\n",
      " |  \n",
      " |  __divmod__(self, value, /)\n",
      " |      Return divmod(self, value).\n",
      " |  \n",
      " |  __eq__(self, value, /)\n",
      " |      Return self==value.\n",
      " |  \n",
      " |  __float__(self, /)\n",
      " |      float(self)\n",
      " |  \n",
      " |  __floor__(...)\n",
      " |      Flooring an Integral returns itself.\n",
      " |  \n",
      " |  __floordiv__(self, value, /)\n",
      " |      Return self//value.\n",
      " |  \n",
      " |  __format__(self, format_spec, /)\n",
      " |      Default object formatter.\n",
      " |  \n",
      " |  __ge__(self, value, /)\n",
      " |      Return self>=value.\n",
      " |  \n",
      " |  __getattribute__(self, name, /)\n",
      " |      Return getattr(self, name).\n",
      " |  \n",
      " |  __getnewargs__(self, /)\n",
      " |  \n",
      " |  __gt__(self, value, /)\n",
      " |      Return self>value.\n",
      " |  \n",
      " |  __hash__(self, /)\n",
      " |      Return hash(self).\n",
      " |  \n",
      " |  __index__(self, /)\n",
      " |      Return self converted to an integer, if self is suitable for use as an index into a list.\n",
      " |  \n",
      " |  __int__(self, /)\n",
      " |      int(self)\n",
      " |  \n",
      " |  __invert__(self, /)\n",
      " |      ~self\n",
      " |  \n",
      " |  __le__(self, value, /)\n",
      " |      Return self<=value.\n",
      " |  \n",
      " |  __lshift__(self, value, /)\n",
      " |      Return self<<value.\n",
      " |  \n",
      " |  __lt__(self, value, /)\n",
      " |      Return self<value.\n",
      " |  \n",
      " |  __mod__(self, value, /)\n",
      " |      Return self%value.\n",
      " |  \n",
      " |  __mul__(self, value, /)\n",
      " |      Return self*value.\n",
      " |  \n",
      " |  __ne__(self, value, /)\n",
      " |      Return self!=value.\n",
      " |  \n",
      " |  __neg__(self, /)\n",
      " |      -self\n",
      " |  \n",
      " |  __pos__(self, /)\n",
      " |      +self\n",
      " |  \n",
      " |  __pow__(self, value, mod=None, /)\n",
      " |      Return pow(self, value, mod).\n",
      " |  \n",
      " |  __radd__(self, value, /)\n",
      " |      Return value+self.\n",
      " |  \n",
      " |  __rdivmod__(self, value, /)\n",
      " |      Return divmod(value, self).\n",
      " |  \n",
      " |  __rfloordiv__(self, value, /)\n",
      " |      Return value//self.\n",
      " |  \n",
      " |  __rlshift__(self, value, /)\n",
      " |      Return value<<self.\n",
      " |  \n",
      " |  __rmod__(self, value, /)\n",
      " |      Return value%self.\n",
      " |  \n",
      " |  __rmul__(self, value, /)\n",
      " |      Return value*self.\n",
      " |  \n",
      " |  __round__(...)\n",
      " |      Rounding an Integral returns itself.\n",
      " |      Rounding with an ndigits argument also returns an integer.\n",
      " |  \n",
      " |  __rpow__(self, value, mod=None, /)\n",
      " |      Return pow(value, self, mod).\n",
      " |  \n",
      " |  __rrshift__(self, value, /)\n",
      " |      Return value>>self.\n",
      " |  \n",
      " |  __rshift__(self, value, /)\n",
      " |      Return self>>value.\n",
      " |  \n",
      " |  __rsub__(self, value, /)\n",
      " |      Return value-self.\n",
      " |  \n",
      " |  __rtruediv__(self, value, /)\n",
      " |      Return value/self.\n",
      " |  \n",
      " |  __sizeof__(self, /)\n",
      " |      Returns size in memory, in bytes.\n",
      " |  \n",
      " |  __sub__(self, value, /)\n",
      " |      Return self-value.\n",
      " |  \n",
      " |  __truediv__(self, value, /)\n",
      " |      Return self/value.\n",
      " |  \n",
      " |  __trunc__(...)\n",
      " |      Truncating an Integral returns itself.\n",
      " |  \n",
      " |  as_integer_ratio(self, /)\n",
      " |      Return integer ratio.\n",
      " |      \n",
      " |      Return a pair of integers, whose ratio is exactly equal to the original int\n",
      " |      and with a positive denominator.\n",
      " |      \n",
      " |      >>> (10).as_integer_ratio()\n",
      " |      (10, 1)\n",
      " |      >>> (-10).as_integer_ratio()\n",
      " |      (-10, 1)\n",
      " |      >>> (0).as_integer_ratio()\n",
      " |      (0, 1)\n",
      " |  \n",
      " |  bit_length(self, /)\n",
      " |      Number of bits necessary to represent self in binary.\n",
      " |      \n",
      " |      >>> bin(37)\n",
      " |      '0b100101'\n",
      " |      >>> (37).bit_length()\n",
      " |      6\n",
      " |  \n",
      " |  conjugate(...)\n",
      " |      Returns self, the complex conjugate of any int.\n",
      " |  \n",
      " |  to_bytes(self, /, length, byteorder, *, signed=False)\n",
      " |      Return an array of bytes representing an integer.\n",
      " |      \n",
      " |      length\n",
      " |        Length of bytes object to use.  An OverflowError is raised if the\n",
      " |        integer is not representable with the given number of bytes.\n",
      " |      byteorder\n",
      " |        The byte order used to represent the integer.  If byteorder is 'big',\n",
      " |        the most significant byte is at the beginning of the byte array.  If\n",
      " |        byteorder is 'little', the most significant byte is at the end of the\n",
      " |        byte array.  To request the native byte order of the host system, use\n",
      " |        `sys.byteorder' as the byte order value.\n",
      " |      signed\n",
      " |        Determines whether two's complement is used to represent the integer.\n",
      " |        If signed is False and a negative integer is given, an OverflowError\n",
      " |        is raised.\n",
      " |  \n",
      " |  ----------------------------------------------------------------------\n",
      " |  Class methods inherited from int:\n",
      " |  \n",
      " |  from_bytes(bytes, byteorder, *, signed=False) from builtins.type\n",
      " |      Return the integer represented by the given array of bytes.\n",
      " |      \n",
      " |      bytes\n",
      " |        Holds the array of bytes to convert.  The argument must either\n",
      " |        support the buffer protocol or be an iterable object producing bytes.\n",
      " |        Bytes and bytearray are examples of built-in objects that support the\n",
      " |        buffer protocol.\n",
      " |      byteorder\n",
      " |        The byte order used to represent the integer.  If byteorder is 'big',\n",
      " |        the most significant byte is at the beginning of the byte array.  If\n",
      " |        byteorder is 'little', the most significant byte is at the end of the\n",
      " |        byte array.  To request the native byte order of the host system, use\n",
      " |        `sys.byteorder' as the byte order value.\n",
      " |      signed\n",
      " |        Indicates whether two's complement is used to represent the integer.\n",
      " |  \n",
      " |  ----------------------------------------------------------------------\n",
      " |  Data descriptors inherited from int:\n",
      " |  \n",
      " |  denominator\n",
      " |      the denominator of a rational number in lowest terms\n",
      " |  \n",
      " |  imag\n",
      " |      the imaginary part of a complex number\n",
      " |  \n",
      " |  numerator\n",
      " |      the numerator of a rational number in lowest terms\n",
      " |  \n",
      " |  real\n",
      " |      the real part of a complex number\n",
      "\n"
     ]
    }
   ],
   "source": [
    "help(''.isalpha())"
   ]
  },
  {
   "cell_type": "code",
   "execution_count": null,
   "id": "b6a2fad0",
   "metadata": {},
   "outputs": [],
   "source": [
    "char01=input(\"Enter any alphabet:\")\n",
    "if(char01>='A' and char01<='Z'):\n",
    "    char01=char01.lower()\n",
    "    print(\"The character you entered is in upper case and the lower case of it would be:\"+ char01)\n",
    "else:\n",
    "    char01=char01.upper()\n",
    "    print(\"The character you have entered is in lower case and its upper case would be\"+char01)"
   ]
  },
  {
   "cell_type": "code",
   "execution_count": 4,
   "id": "4784f4b3",
   "metadata": {},
   "outputs": [
    {
     "name": "stdout",
     "output_type": "stream",
     "text": [
      "Enter a no.:9\n",
      "9\n",
      "14\n"
     ]
    }
   ],
   "source": [
    "x=int(input(\"Enter a no.:\"))\n",
    "if(x>=5):\n",
    "    print(x)\n",
    "print(x+5)\n"
   ]
  },
  {
   "cell_type": "code",
   "execution_count": 2,
   "id": "7f1d268d",
   "metadata": {},
   "outputs": [
    {
     "name": "stdout",
     "output_type": "stream",
     "text": [
      "Enter 1st number:10\n",
      "Enter 2nd number:10\n",
      "Enter 3rd number:10\n",
      "All are equal\n"
     ]
    }
   ],
   "source": [
    "a=int(input(\"Enter 1st number:\"))\n",
    "b=int(input(\"Enter 2nd number:\"))\n",
    "c=int(input(\"Enter 3rd number:\"))\n",
    "if(a==b and b==c):\n",
    "    print(\"All are equal\")\n",
    "elif(a>b):\n",
    "        if(a>c):\n",
    "            print(\"The greatest is\"+ str(a))\n",
    "        else:\n",
    "            print(\"The greatest is\"+str(c))\n",
    "elif(b>c):\n",
    "        print(\"The greatest is\"+str(b))\n",
    "else:\n",
    "        print(\"The greatest is\"+str(c))\n"
   ]
  },
  {
   "cell_type": "code",
   "execution_count": 14,
   "id": "b743e47d",
   "metadata": {},
   "outputs": [
    {
     "name": "stdout",
     "output_type": "stream",
     "text": [
      "Enter a alphabet or a number:]\n",
      "Invalid input\n"
     ]
    }
   ],
   "source": [
    "ch01=input(\"Enter a alphabet or a number:\")\n",
    "if(ch01.isalpha()):\n",
    "    if (ch01>='A' and ch01<='Z'):\n",
    "        print(\"Upper case\")\n",
    "    else:\n",
    "        print(\"Lower case\")\n",
    "elif(ch01.isdigit()):\n",
    "    print(\"Number\")\n",
    "else:\n",
    "    print(\"Invalid input\")"
   ]
  },
  {
   "cell_type": "code",
   "execution_count": 19,
   "id": "0cabdc77",
   "metadata": {},
   "outputs": [
    {
     "name": "stdout",
     "output_type": "stream",
     "text": [
      "Enter coefficient of x^2:3\n",
      "Enter coefficient of x:3\n",
      "Enter the constant:3\n",
      "The roots are not real\n"
     ]
    }
   ],
   "source": [
    "a=int(input(\"Enter coefficient of x^2:\"))\n",
    "b=int(input(\"Enter coefficient of x:\"))\n",
    "c=int(input(\"Enter the constant:\"))\n",
    "if((b**2)>=(4*a*c)):\n",
    "    R1= ((-b)+((b**2)-(4*a*c))**0.5)/(2*a)\n",
    "    R2= ((-b)-((b**2)-(4*a*c))**0.5)/(2*a)\n",
    "    print(R1,R2)\n",
    "else:\n",
    "    print(\"The roots are not real\")"
   ]
  },
  {
   "cell_type": "code",
   "execution_count": 16,
   "id": "5271de04",
   "metadata": {},
   "outputs": [
    {
     "name": "stdout",
     "output_type": "stream",
     "text": [
      "55\n",
      "avg is5.5\n"
     ]
    }
   ],
   "source": [
    "i=0\n",
    "s=0\n",
    "while(i<=10\n",
    "     ):\n",
    "    s=s+i\n",
    "    i=i+1\n",
    "print(s)\n",
    "print(\"avg is\"+ str(s/10))"
   ]
  },
  {
   "cell_type": "code",
   "execution_count": 21,
   "id": "89287ce3",
   "metadata": {},
   "outputs": [
    {
     "name": "stdout",
     "output_type": "stream",
     "text": [
      "********************"
     ]
    }
   ],
   "source": [
    "i=1\n",
    "while(i<=20):\n",
    "    print(\"*\",end=\"\")\n",
    "    i=i+1\n"
   ]
  },
  {
   "cell_type": "code",
   "execution_count": 1,
   "id": "7433bd58",
   "metadata": {},
   "outputs": [
    {
     "name": "stdout",
     "output_type": "stream",
     "text": [
      "Enter m:89\n",
      "Enter n:90\n"
     ]
    },
    {
     "ename": "NameError",
     "evalue": "name 's' is not defined",
     "output_type": "error",
     "traceback": [
      "\u001b[1;31m---------------------------------------------------------------------------\u001b[0m",
      "\u001b[1;31mNameError\u001b[0m                                 Traceback (most recent call last)",
      "Input \u001b[1;32mIn [1]\u001b[0m, in \u001b[0;36m<cell line: 4>\u001b[1;34m()\u001b[0m\n\u001b[0;32m      3\u001b[0m i\u001b[38;5;241m=\u001b[39mm\n\u001b[0;32m      4\u001b[0m \u001b[38;5;28;01mwhile\u001b[39;00m(i\u001b[38;5;241m<\u001b[39m\u001b[38;5;241m=\u001b[39mn):\n\u001b[1;32m----> 5\u001b[0m     s\u001b[38;5;241m=\u001b[39m\u001b[43ms\u001b[49m\u001b[38;5;241m+\u001b[39mi\n\u001b[0;32m      6\u001b[0m     i\u001b[38;5;241m=\u001b[39mi\u001b[38;5;241m+\u001b[39m\u001b[38;5;241m1\u001b[39m\n\u001b[0;32m      7\u001b[0m \u001b[38;5;28mprint\u001b[39m(\u001b[38;5;124m\"\u001b[39m\u001b[38;5;124mThe sum of numbers from m till n is:\u001b[39m\u001b[38;5;124m\"\u001b[39m,)\n",
      "\u001b[1;31mNameError\u001b[0m: name 's' is not defined"
     ]
    }
   ],
   "source": [
    "m= int(input(\"Enter m:\"))\n",
    "n= int(input(\"Enter n:\"))\n",
    "i=m\n",
    "while(i<=n):\n",
    "    s=s+i\n",
    "    i=i+1\n",
    "print(\"The sum of numbers from m till n is:\",)"
   ]
  },
  {
   "cell_type": "markdown",
   "id": "1c6bc30d",
   "metadata": {},
   "source": [
    "nn=0\n",
    "np=0\n",
    "nz=0\n",
    "i=0\n",
    "while(i!=-1):\n",
    "    m=int(input(\"Enter a number and press -1 to exist:\"))\n",
    "    if(m<0):\n",
    "        nn=nn+1\n",
    "    if(m==0):\n",
    "        nz=nz+1\n",
    "    if(m>0):\n",
    "        np=np+1\n",
    "    i=n\n",
    "print(\"Number of Negative numbers entered by you are:\" + str(nn))\n",
    "print(\"Number of Positive numbers entered by you are:\" + str(np))\n",
    "print(\"Number of Zeros entered by you are:\" + str(nz))"
   ]
  },
  {
   "cell_type": "code",
   "execution_count": 4,
   "id": "3b1a3237",
   "metadata": {
    "scrolled": true
   },
   "outputs": [
    {
     "name": "stdout",
     "output_type": "stream",
     "text": [
      "Enter a number and press -1 to exist:100\n",
      "Enter a number and press -1 to exist:200\n",
      "Enter a number and press -1 to exist:300\n",
      "Enter a number and press -1 to exist:-100\n",
      "Enter a number and press -1 to exist:-200\n",
      "Enter a number and press -1 to exist:-300\n",
      "Enter a number and press -1 to exist:-1\n",
      "Number of Negative numbers entered by you are:4\n",
      "Avg of Negative numbers are:-150.25\n",
      "Number of Positive numbers entered by you are:3\n",
      "Avg of Positive numbers are:200.0\n",
      "Number of Zeros entered by you are:0\n"
     ]
    }
   ],
   "source": [
    "nn=0 \n",
    "n=0\n",
    "p=0\n",
    "np=0 \n",
    "nz=0 \n",
    "i=0 \n",
    "while(i!=-1): \n",
    "    m=int(input(\"Enter a number and press -1 to exist:\")) \n",
    "    if(m<0): \n",
    "        nn+=1\n",
    "        n+=m\n",
    "    if(m==0): \n",
    "        nz=nz+1\n",
    "    if(m>0): \n",
    "        np+=1 \n",
    "        p+=m\n",
    "    i=m\n",
    "print(\"Number of Negative numbers entered by you are:\" + str(nn)) \n",
    "print(\"Avg of Negative numbers are:\" + str(n/nn)) \n",
    "print(\"Number of Positive numbers entered by you are:\" + str(np)) \n",
    "print(\"Avg of Positive numbers are:\" + str(p/np)) \n",
    "print(\"Number of Zeros entered by you are:\" + str(nz))"
   ]
  },
  {
   "cell_type": "code",
   "execution_count": 1,
   "id": "031f9884",
   "metadata": {},
   "outputs": [
    {
     "name": "stdout",
     "output_type": "stream",
     "text": [
      "Enter a number:371\n",
      "the number is an Amstrong number\n"
     ]
    }
   ],
   "source": [
    "m=int(input(\"Enter a number:\"))\n",
    "s=0\n",
    "n=m\n",
    "while(n>0):\n",
    "    r=n%10\n",
    "    s=s+r**3\n",
    "    n=(n-r)/10\n",
    "if(s==m):\n",
    "    print(\"the number is an Amstrong number\")\n",
    "else:\n",
    "    print(\"The number is not an Amstrong number\")\n",
    "    "
   ]
  },
  {
   "cell_type": "code",
   "execution_count": 13,
   "id": "c6916157",
   "metadata": {},
   "outputs": [
    {
     "name": "stdout",
     "output_type": "stream",
     "text": [
      "Enter a number:32\n",
      "100000\n"
     ]
    }
   ],
   "source": [
    "dec=int(input(\"Enter a number:\"))\n",
    "i=0\n",
    "binary1=0\n",
    "while(dec!=0):\n",
    "    remdr=dec%2\n",
    "    dec=dec//2\n",
    "    binary1= binary1+(10**i)*remdr\n",
    "    i=i+1\n",
    "print(binary1)  "
   ]
  },
  {
   "cell_type": "code",
   "execution_count": 3,
   "id": "015176f1",
   "metadata": {},
   "outputs": [
    {
     "name": "stdout",
     "output_type": "stream",
     "text": [
      "Enter a number:678\n",
      "The sum of the digits of the number is:21.0\n"
     ]
    }
   ],
   "source": [
    "a=int(input(\"Enter a number:\"))\n",
    "s=0\n",
    "i=a\n",
    "while(i>0):\n",
    "    remdr1=i%10\n",
    "    s=s+remdr1\n",
    "    i=(i-remdr1)/10\n",
    "print(\"The sum of the digits of the number is:\"+ str(s))"
   ]
  },
  {
   "cell_type": "code",
   "execution_count": 6,
   "id": "09f24744",
   "metadata": {},
   "outputs": [
    {
     "name": "stdout",
     "output_type": "stream",
     "text": [
      "Enter 1st number:34\n",
      "Enter the 2nd number:17\n",
      "The GCD of the numbers is17\n"
     ]
    }
   ],
   "source": [
    "a=int(input(\"Enter 1st number:\"))\n",
    "b=int(input(\"Enter the 2nd number:\"))\n",
    "if(a>b):\n",
    "    Dividend=a\n",
    "    Divisor=b\n",
    "else:\n",
    "    Dividend=b\n",
    "    Divisor=a\n",
    "while(Divisor!=0):\n",
    "    remainder01=Dividend%Divisor\n",
    "    Dividend=Divisor\n",
    "    Divisor=remainder01\n",
    "print(\"The GCD of the numbers is\"+str(Dividend))"
   ]
  },
  {
   "cell_type": "code",
   "execution_count": 11,
   "id": "af7a54cc",
   "metadata": {},
   "outputs": [
    {
     "name": "stdout",
     "output_type": "stream",
     "text": [
      "Enter a number to be reversed:456\n",
      "The reverse of the number will be\n",
      "6 5 4 "
     ]
    }
   ],
   "source": [
    "a=int(input(\"Enter a number to be reversed:\"))\n",
    "reverse=0\n",
    "print(\"The reverse of the number will be\")\n",
    "while(a>0):\n",
    "    remainder02=int(a%10)\n",
    "    a=(a-remainder02)/10\n",
    "    print(remainder02,end=\" \")\n",
    " \n"
   ]
  },
  {
   "cell_type": "code",
   "execution_count": 15,
   "id": "615b010c",
   "metadata": {},
   "outputs": [
    {
     "name": "stdout",
     "output_type": "stream",
     "text": [
      "Enter a number2\n",
      "2 1 0 "
     ]
    }
   ],
   "source": [
    "a=int(input(\"Enter a number\"))\n",
    "while(a>=0):\n",
    "    print(a,end=\" \")\n",
    "    a=a-1\n",
    "    \n",
    "    "
   ]
  },
  {
   "cell_type": "code",
   "execution_count": 24,
   "id": "f65d500b",
   "metadata": {},
   "outputs": [
    {
     "name": "stdout",
     "output_type": "stream",
     "text": [
      "Enter a number:10\n",
      "5.5\n"
     ]
    }
   ],
   "source": [
    "n=int(input(\"Enter a number:\"))\n",
    "s=0\n",
    "i=0\n",
    "for i in range(0,n+1):\n",
    "    s=s+i\n",
    "print(s/i)"
   ]
  },
  {
   "cell_type": "code",
   "execution_count": 31,
   "id": "0b1cdb98",
   "metadata": {},
   "outputs": [
    {
     "name": "stdout",
     "output_type": "stream",
     "text": [
      "Enter first number:56\n",
      "Enter 2nd number:67\n",
      "56  is even\n",
      "57  is odd\n",
      "58  is even\n",
      "59  is odd\n",
      "60  is even\n",
      "61  is odd\n",
      "62  is even\n",
      "63  is odd\n",
      "64  is even\n",
      "65  is odd\n",
      "66  is even\n"
     ]
    }
   ],
   "source": [
    "m=int(input(\"Enter first number:\"))\n",
    "n=int(input(\"Enter 2nd number:\"))\n",
    "for i in range(m,n):\n",
    "    if (i%2==0):\n",
    "        print(i,\" is even\")\n",
    "    else:\n",
    "        print(i,\" is odd\")\n",
    "        "
   ]
  },
  {
   "cell_type": "code",
   "execution_count": 40,
   "id": "722861e7",
   "metadata": {},
   "outputs": [
    {
     "name": "stdout",
     "output_type": "stream",
     "text": [
      "Enter a number2\n",
      "Factorial of the number is: 2\n"
     ]
    }
   ],
   "source": [
    "a=int(input(\"Enter a number\"))\n",
    "fact_01=1\n",
    "for i in range(a,0,-1):\n",
    "    fact_01=fact_01*i\n",
    "print(\"Factorial of the number is: \"+ str(fact_01))"
   ]
  },
  {
   "cell_type": "code",
   "execution_count": 53,
   "id": "1ad83709",
   "metadata": {},
   "outputs": [
    {
     "name": "stdout",
     "output_type": "stream",
     "text": [
      "Enter a number:61\n",
      "the number is a prime\n"
     ]
    }
   ],
   "source": [
    "a01=int(input(\"Enter a number:\"))\n",
    "iscomposite=0\n",
    "for i in range(2,a):\n",
    "    if(a01%i==0):\n",
    "        iscomposite=1\n",
    "        break\n",
    "if (iscomposite==1):\n",
    "    print(\"the number is composite\")\n",
    "else:\n",
    "    print(\"the number is a prime\")"
   ]
  },
  {
   "cell_type": "markdown",
   "id": "5f9c8920",
   "metadata": {},
   "source": [
    "a=it=pn=cn=0\n",
    "while(a!=-1):\n",
    "    a=int(input(\"Enter a Number:\"))\n",
    "    for i in range(2,a):\n",
    "        if(a%2==0):\n",
    "            pn=pn+1\n",
    "        else:\n",
    "            cn=cn+1\n",
    "    it=it+1\n",
    "print(\"The numbers entered by you so far counts to: \"+str(it))\n",
    "print(\"Count of prime numbers is: \"+ str(pn))\n",
    "print(\"Count of composite numbers is: \"+ str(cn))"
   ]
  },
  {
   "cell_type": "code",
   "execution_count": 14,
   "id": "439c3de9",
   "metadata": {},
   "outputs": [
    {
     "name": "stdout",
     "output_type": "stream",
     "text": [
      "Enter a Number:-1\n",
      "The numbers entered by you so far counts to: 0\n",
      "Count of prime numbers is: 0\n",
      "Count of composite numbers is: 0\n"
     ]
    }
   ],
   "source": [
    "a=it=pn=cn=0\n",
    "while(a!=-1):\n",
    "    a=int(input(\"Enter a Number:\"))\n",
    "    if (a==-1):\n",
    "            break\n",
    "    for i in range(2,a):\n",
    "        if(a%2==0):\n",
    "            pn=1\n",
    "    it=it+1\n",
    "print(\"The numbers entered by you so far counts to: \"+str(it))\n",
    "print(\"Count of prime numbers is: \"+ str(pn))\n",
    "print(\"Count of composite numbers is: \"+ str(cn))"
   ]
  },
  {
   "cell_type": "code",
   "execution_count": 17,
   "id": "7bc7d52f",
   "metadata": {},
   "outputs": [
    {
     "name": "stdout",
     "output_type": "stream",
     "text": [
      "Enter a number:-2\n",
      "Enter a number:-1\n",
      "The numbers of primes you have entered so far are:1\n",
      "The numbers of composite numbers you have entered so far are:0\n"
     ]
    }
   ],
   "source": [
    "pn=0\n",
    "cn=0\n",
    "\n",
    "while(1):\n",
    "    a=int(input(\"Enter a number:\"))\n",
    "    if(a==-1):\n",
    "        break\n",
    "    iscomposite=0\n",
    "    for i in range(2,a):\n",
    "        if(a%i==0):\n",
    "            iscomposite=1\n",
    "            break\n",
    "    if(iscomposite==1):\n",
    "        cn+=1\n",
    "    else:\n",
    "        pn+=1\n",
    "print(\"The numbers of primes you have entered so far are:\" + str(pn))\n",
    "print(\"The numbers of composite numbers you have entered so far are:\" + str(cn))"
   ]
  },
  {
   "cell_type": "code",
   "execution_count": 13,
   "id": "22913173",
   "metadata": {},
   "outputs": [
    {
     "name": "stdout",
     "output_type": "stream",
     "text": [
      "Enter the range starting year1900\n",
      "Enter the end of the range2101\n",
      "Leap years from 1900 till 2101 are:\n",
      "1904\t1908\t1912\t1916\t1920\t1924\t1928\t1932\t1936\t1940\t1944\t1948\t1952\t1956\t1960\t1964\t1968\t1972\t1976\t1980\t1984\t1988\t1992\t1996\t2000\t2004\t2008\t2012\t2016\t2020\t2024\t2028\t2032\t2036\t2040\t2044\t2048\t2052\t2056\t2060\t2064\t2068\t2072\t2076\t2080\t2084\t2088\t2092\t2096\t"
     ]
    }
   ],
   "source": [
    "year1=int(input(\"Enter the range starting year\"))\n",
    "year2=int(input(\"Enter the end of the range\"))\n",
    "print(\"Leap years from 1900 till 2101 are:\")\n",
    "for i in range(year1,year2):\n",
    "    if (i%4==0 and i%100!=0) or (i%400==0):\n",
    "        print(i, end=\"\\t\")\n",
    "    \n",
    "    "
   ]
  },
  {
   "cell_type": "code",
   "execution_count": 19,
   "id": "ff2f0dfa",
   "metadata": {},
   "outputs": [
    {
     "name": "stdout",
     "output_type": "stream",
     "text": [
      "pass 1 -12345\n",
      "pass 2 -12345\n",
      "pass 3 -12345\n",
      "pass 4 -12345\n",
      "pass 5 -12345\n"
     ]
    }
   ],
   "source": [
    "for i in range(1,6):\n",
    "    print(\"pass\", i,\"-\",end=\"\")\n",
    "    for j in range(1,6):\n",
    "        print(j,end=\"\")\n",
    "    print()"
   ]
  },
  {
   "cell_type": "code",
   "execution_count": 21,
   "id": "b593d33a",
   "metadata": {},
   "outputs": [
    {
     "name": "stdout",
     "output_type": "stream",
     "text": [
      "**********\n",
      "**********\n",
      "**********\n",
      "**********\n",
      "**********\n"
     ]
    }
   ],
   "source": [
    "for i in range(1,6):\n",
    "        for j in range(1,11):\n",
    "            print(\"*\",end=\"\")\n",
    "        print()"
   ]
  },
  {
   "cell_type": "code",
   "execution_count": 36,
   "id": "44fd4a3c",
   "metadata": {
    "scrolled": true
   },
   "outputs": [
    {
     "name": "stdout",
     "output_type": "stream",
     "text": [
      "\n",
      "1\n",
      "21\n"
     ]
    }
   ],
   "source": [
    "for i in range(1,4):\n",
    "    for j in range(1,i):\n",
    "        print(i-j,end=\"\")\n",
    "    print()"
   ]
  },
  {
   "cell_type": "code",
   "execution_count": 40,
   "id": "776e1842",
   "metadata": {},
   "outputs": [
    {
     "name": "stdout",
     "output_type": "stream",
     "text": [
      "0\n",
      "12\n",
      "345\n",
      "6789\n"
     ]
    }
   ],
   "source": [
    "s=0\n",
    "for i in range(1,5):\n",
    "    for j in range(1,i+1):\n",
    "        print(s,end=\"\")9\n",
    "        s=s+1\n",
    "    print()"
   ]
  },
  {
   "cell_type": "code",
   "execution_count": 56,
   "id": "06c46fee",
   "metadata": {},
   "outputs": [
    {
     "name": "stdout",
     "output_type": "stream",
     "text": [
      "    * \n",
      "   * * \n",
      "  * * * \n",
      " * * * * \n",
      "* * * * * \n"
     ]
    }
   ],
   "source": [
    "n=5\n",
    "for i in range(1,n+1):  \n",
    "    for k in range(n,i,-1):\n",
    "        print(\" \",end=\"\")\n",
    "    for j in range(1,i+1):\n",
    "        print(\"*\",end=\" \")\n",
    "    print()"
   ]
  },
  {
   "cell_type": "code",
   "execution_count": 61,
   "id": "9d23e217",
   "metadata": {},
   "outputs": [
    {
     "name": "stdout",
     "output_type": "stream",
     "text": [
      "            *\n",
      "        *       *\n",
      "    *       *      *\n"
     ]
    }
   ],
   "source": [
    "print('''            *\n",
    "        *       *\n",
    "    *       *      *''')"
   ]
  },
  {
   "cell_type": "code",
   "execution_count": 66,
   "id": "65dfc22a",
   "metadata": {},
   "outputs": [
    {
     "name": "stdout",
     "output_type": "stream",
     "text": [
      "Pass: M\n",
      "Pass: a\n",
      "Pass: n\n",
      "Pass: d\n",
      "Pass: y\n"
     ]
    }
   ],
   "source": [
    "for i in \"Mandy\":\n",
    "    pass\n",
    "    print(\"Pass:\", i)\n",
    "    "
   ]
  },
  {
   "cell_type": "code",
   "execution_count": 1,
   "id": "b4816bdf",
   "metadata": {},
   "outputs": [
    {
     "ename": "KeyboardInterrupt",
     "evalue": "Interrupted by user",
     "output_type": "error",
     "traceback": [
      "\u001b[1;31m---------------------------------------------------------------------------\u001b[0m",
      "\u001b[1;31mKeyboardInterrupt\u001b[0m                         Traceback (most recent call last)",
      "Input \u001b[1;32mIn [1]\u001b[0m, in \u001b[0;36m<cell line: 1>\u001b[1;34m()\u001b[0m\n\u001b[1;32m----> 1\u001b[0m start_day\u001b[38;5;241m=\u001b[39m\u001b[38;5;28mint\u001b[39m(\u001b[38;5;28;43minput\u001b[39;49m\u001b[43m(\u001b[49m\u001b[38;5;124;43m\"\u001b[39;49m\u001b[38;5;124;43mEnter the start day of the month(1-7):\u001b[39;49m\u001b[38;5;124;43m\"\u001b[39;49m\u001b[43m)\u001b[49m)\n\u001b[0;32m      2\u001b[0m num_of_days\u001b[38;5;241m=\u001b[39m \u001b[38;5;28mint\u001b[39m(\u001b[38;5;28minput\u001b[39m(\u001b[38;5;124m\"\u001b[39m\u001b[38;5;124mEner the no of days in the month:\u001b[39m\u001b[38;5;124m\"\u001b[39m))\n\u001b[0;32m      3\u001b[0m \u001b[38;5;28mprint\u001b[39m(\u001b[38;5;124m\"\u001b[39m\u001b[38;5;124mSun Mon Tue Wed Thur Fri Sat\u001b[39m\u001b[38;5;124m\"\u001b[39m)\n",
      "File \u001b[1;32m~\\anaconda3\\lib\\site-packages\\ipykernel\\kernelbase.py:1075\u001b[0m, in \u001b[0;36mKernel.raw_input\u001b[1;34m(self, prompt)\u001b[0m\n\u001b[0;32m   1071\u001b[0m \u001b[38;5;28;01mif\u001b[39;00m \u001b[38;5;129;01mnot\u001b[39;00m \u001b[38;5;28mself\u001b[39m\u001b[38;5;241m.\u001b[39m_allow_stdin:\n\u001b[0;32m   1072\u001b[0m     \u001b[38;5;28;01mraise\u001b[39;00m StdinNotImplementedError(\n\u001b[0;32m   1073\u001b[0m         \u001b[38;5;124m\"\u001b[39m\u001b[38;5;124mraw_input was called, but this frontend does not support input requests.\u001b[39m\u001b[38;5;124m\"\u001b[39m\n\u001b[0;32m   1074\u001b[0m     )\n\u001b[1;32m-> 1075\u001b[0m \u001b[38;5;28;01mreturn\u001b[39;00m \u001b[38;5;28;43mself\u001b[39;49m\u001b[38;5;241;43m.\u001b[39;49m\u001b[43m_input_request\u001b[49m\u001b[43m(\u001b[49m\n\u001b[0;32m   1076\u001b[0m \u001b[43m    \u001b[49m\u001b[38;5;28;43mstr\u001b[39;49m\u001b[43m(\u001b[49m\u001b[43mprompt\u001b[49m\u001b[43m)\u001b[49m\u001b[43m,\u001b[49m\n\u001b[0;32m   1077\u001b[0m \u001b[43m    \u001b[49m\u001b[38;5;28;43mself\u001b[39;49m\u001b[38;5;241;43m.\u001b[39;49m\u001b[43m_parent_ident\u001b[49m\u001b[43m[\u001b[49m\u001b[38;5;124;43m\"\u001b[39;49m\u001b[38;5;124;43mshell\u001b[39;49m\u001b[38;5;124;43m\"\u001b[39;49m\u001b[43m]\u001b[49m\u001b[43m,\u001b[49m\n\u001b[0;32m   1078\u001b[0m \u001b[43m    \u001b[49m\u001b[38;5;28;43mself\u001b[39;49m\u001b[38;5;241;43m.\u001b[39;49m\u001b[43mget_parent\u001b[49m\u001b[43m(\u001b[49m\u001b[38;5;124;43m\"\u001b[39;49m\u001b[38;5;124;43mshell\u001b[39;49m\u001b[38;5;124;43m\"\u001b[39;49m\u001b[43m)\u001b[49m\u001b[43m,\u001b[49m\n\u001b[0;32m   1079\u001b[0m \u001b[43m    \u001b[49m\u001b[43mpassword\u001b[49m\u001b[38;5;241;43m=\u001b[39;49m\u001b[38;5;28;43;01mFalse\u001b[39;49;00m\u001b[43m,\u001b[49m\n\u001b[0;32m   1080\u001b[0m \u001b[43m\u001b[49m\u001b[43m)\u001b[49m\n",
      "File \u001b[1;32m~\\anaconda3\\lib\\site-packages\\ipykernel\\kernelbase.py:1120\u001b[0m, in \u001b[0;36mKernel._input_request\u001b[1;34m(self, prompt, ident, parent, password)\u001b[0m\n\u001b[0;32m   1117\u001b[0m             \u001b[38;5;28;01mbreak\u001b[39;00m\n\u001b[0;32m   1118\u001b[0m \u001b[38;5;28;01mexcept\u001b[39;00m \u001b[38;5;167;01mKeyboardInterrupt\u001b[39;00m:\n\u001b[0;32m   1119\u001b[0m     \u001b[38;5;66;03m# re-raise KeyboardInterrupt, to truncate traceback\u001b[39;00m\n\u001b[1;32m-> 1120\u001b[0m     \u001b[38;5;28;01mraise\u001b[39;00m \u001b[38;5;167;01mKeyboardInterrupt\u001b[39;00m(\u001b[38;5;124m\"\u001b[39m\u001b[38;5;124mInterrupted by user\u001b[39m\u001b[38;5;124m\"\u001b[39m) \u001b[38;5;28;01mfrom\u001b[39;00m \u001b[38;5;28mNone\u001b[39m\n\u001b[0;32m   1121\u001b[0m \u001b[38;5;28;01mexcept\u001b[39;00m \u001b[38;5;167;01mException\u001b[39;00m:\n\u001b[0;32m   1122\u001b[0m     \u001b[38;5;28mself\u001b[39m\u001b[38;5;241m.\u001b[39mlog\u001b[38;5;241m.\u001b[39mwarning(\u001b[38;5;124m\"\u001b[39m\u001b[38;5;124mInvalid Message:\u001b[39m\u001b[38;5;124m\"\u001b[39m, exc_info\u001b[38;5;241m=\u001b[39m\u001b[38;5;28;01mTrue\u001b[39;00m)\n",
      "\u001b[1;31mKeyboardInterrupt\u001b[0m: Interrupted by user"
     ]
    }
   ],
   "source": [
    "start_day=int(input(\"Enter the start day of the month(1-7):\"))\n",
    "num_of_days= int(input(\"Ener the no of days in the month:\"))\n",
    "print(\"Sun Mon Tue Wed Thur Fri Sat\")\n",
    "print(\"----------------------------\")\n",
    "for i in range(start_day):\n",
    "    print(end=\" \")\n",
    "i=start_day-1\n",
    "for j in range(1,num_of_days+1):\n",
    "        if(i>6):\n",
    "            print()\n",
    "            i=1\n",
    "        else:\n",
    "            i=i+1\n",
    "        print(str(j)+\" \", end=\"\")"
   ]
  },
  {
   "cell_type": "code",
   "execution_count": 5,
   "id": "ed3395b1",
   "metadata": {},
   "outputs": [
    {
     "data": {
      "text/plain": [
       "17"
      ]
     },
     "execution_count": 5,
     "metadata": {},
     "output_type": "execute_result"
    }
   ],
   "source": [
    "\n",
    "8+9\n"
   ]
  },
  {
   "cell_type": "code",
   "execution_count": 11,
   "id": "6ff8c157",
   "metadata": {},
   "outputs": [
    {
     "name": "stdout",
     "output_type": "stream",
     "text": [
      "90\n",
      "90\n",
      "8100\n",
      "8100\n"
     ]
    }
   ],
   "source": [
    "def display(x):\n",
    "        print(x)\n",
    "        return x*x\n",
    "num=90\n",
    "result=display(num)\n",
    "print(display(num))\n",
    "print(result)"
   ]
  },
  {
   "cell_type": "code",
   "execution_count": 21,
   "id": "a2aa0968",
   "metadata": {},
   "outputs": [
    {
     "name": "stdout",
     "output_type": "stream",
     "text": [
      "91\n"
     ]
    }
   ],
   "source": [
    "def inc(y):\n",
    "    return (lambda x:x+1) (y)\n",
    "a=90\n",
    "b=inc(a)\n",
    "print(b)"
   ]
  },
  {
   "cell_type": "code",
   "execution_count": 29,
   "id": "cbd64615",
   "metadata": {},
   "outputs": [
    {
     "name": "stdout",
     "output_type": "stream",
     "text": [
      "Enter first number:5\n",
      "Enter second number:-9\n",
      "The First number is bigger\n"
     ]
    }
   ],
   "source": [
    "def check_numbers(a,b):\n",
    "    if (a==b):\n",
    "        return 0\n",
    "    if (a>b):\n",
    "        return 1\n",
    "    else:\n",
    "        return -1\n",
    "a= input(\"Enter first number:\")\n",
    "b= input(\"Enter second number:\")\n",
    "c=check_numbers(a,b)\n",
    "if c==0:\n",
    "    print(\"Numbers are Equal\")\n",
    "if c==1:\n",
    "    print(\"The First number is bigger\")\n",
    "else:\n",
    "    print(\"The second number is bigger\")   "
   ]
  },
  {
   "cell_type": "code",
   "execution_count": 4,
   "id": "4b165084",
   "metadata": {},
   "outputs": [
    {
     "ename": "KeyboardInterrupt",
     "evalue": "Interrupted by user",
     "output_type": "error",
     "traceback": [
      "\u001b[1;31m---------------------------------------------------------------------------\u001b[0m",
      "\u001b[1;31mKeyboardInterrupt\u001b[0m                         Traceback (most recent call last)",
      "Input \u001b[1;32mIn [4]\u001b[0m, in \u001b[0;36m<cell line: 6>\u001b[1;34m()\u001b[0m\n\u001b[0;32m      4\u001b[0m     b\u001b[38;5;241m=\u001b[39mc\n\u001b[0;32m      5\u001b[0m     \u001b[38;5;28;01mreturn\u001b[39;00m a, b\n\u001b[1;32m----> 6\u001b[0m a\u001b[38;5;241m=\u001b[39m\u001b[38;5;28;43minput\u001b[39;49m\u001b[43m(\u001b[49m\u001b[38;5;124;43m\"\u001b[39;49m\u001b[38;5;124;43mEnter the first number:\u001b[39;49m\u001b[38;5;124;43m\"\u001b[39;49m\u001b[43m)\u001b[49m\n\u001b[0;32m      7\u001b[0m b\u001b[38;5;241m=\u001b[39m\u001b[38;5;28minput\u001b[39m(\u001b[38;5;124m\"\u001b[39m\u001b[38;5;124mEnter the second number:\u001b[39m\u001b[38;5;124m\"\u001b[39m)\n\u001b[0;32m      8\u001b[0m \u001b[38;5;28mprint\u001b[39m(\u001b[38;5;124m\"\u001b[39m\u001b[38;5;124mThe numbers before swapping are:\u001b[39m\u001b[38;5;124m\"\u001b[39m, a,b)\n",
      "File \u001b[1;32m~\\anaconda3\\lib\\site-packages\\ipykernel\\kernelbase.py:1075\u001b[0m, in \u001b[0;36mKernel.raw_input\u001b[1;34m(self, prompt)\u001b[0m\n\u001b[0;32m   1071\u001b[0m \u001b[38;5;28;01mif\u001b[39;00m \u001b[38;5;129;01mnot\u001b[39;00m \u001b[38;5;28mself\u001b[39m\u001b[38;5;241m.\u001b[39m_allow_stdin:\n\u001b[0;32m   1072\u001b[0m     \u001b[38;5;28;01mraise\u001b[39;00m StdinNotImplementedError(\n\u001b[0;32m   1073\u001b[0m         \u001b[38;5;124m\"\u001b[39m\u001b[38;5;124mraw_input was called, but this frontend does not support input requests.\u001b[39m\u001b[38;5;124m\"\u001b[39m\n\u001b[0;32m   1074\u001b[0m     )\n\u001b[1;32m-> 1075\u001b[0m \u001b[38;5;28;01mreturn\u001b[39;00m \u001b[38;5;28;43mself\u001b[39;49m\u001b[38;5;241;43m.\u001b[39;49m\u001b[43m_input_request\u001b[49m\u001b[43m(\u001b[49m\n\u001b[0;32m   1076\u001b[0m \u001b[43m    \u001b[49m\u001b[38;5;28;43mstr\u001b[39;49m\u001b[43m(\u001b[49m\u001b[43mprompt\u001b[49m\u001b[43m)\u001b[49m\u001b[43m,\u001b[49m\n\u001b[0;32m   1077\u001b[0m \u001b[43m    \u001b[49m\u001b[38;5;28;43mself\u001b[39;49m\u001b[38;5;241;43m.\u001b[39;49m\u001b[43m_parent_ident\u001b[49m\u001b[43m[\u001b[49m\u001b[38;5;124;43m\"\u001b[39;49m\u001b[38;5;124;43mshell\u001b[39;49m\u001b[38;5;124;43m\"\u001b[39;49m\u001b[43m]\u001b[49m\u001b[43m,\u001b[49m\n\u001b[0;32m   1078\u001b[0m \u001b[43m    \u001b[49m\u001b[38;5;28;43mself\u001b[39;49m\u001b[38;5;241;43m.\u001b[39;49m\u001b[43mget_parent\u001b[49m\u001b[43m(\u001b[49m\u001b[38;5;124;43m\"\u001b[39;49m\u001b[38;5;124;43mshell\u001b[39;49m\u001b[38;5;124;43m\"\u001b[39;49m\u001b[43m)\u001b[49m\u001b[43m,\u001b[49m\n\u001b[0;32m   1079\u001b[0m \u001b[43m    \u001b[49m\u001b[43mpassword\u001b[49m\u001b[38;5;241;43m=\u001b[39;49m\u001b[38;5;28;43;01mFalse\u001b[39;49;00m\u001b[43m,\u001b[49m\n\u001b[0;32m   1080\u001b[0m \u001b[43m\u001b[49m\u001b[43m)\u001b[49m\n",
      "File \u001b[1;32m~\\anaconda3\\lib\\site-packages\\ipykernel\\kernelbase.py:1120\u001b[0m, in \u001b[0;36mKernel._input_request\u001b[1;34m(self, prompt, ident, parent, password)\u001b[0m\n\u001b[0;32m   1117\u001b[0m             \u001b[38;5;28;01mbreak\u001b[39;00m\n\u001b[0;32m   1118\u001b[0m \u001b[38;5;28;01mexcept\u001b[39;00m \u001b[38;5;167;01mKeyboardInterrupt\u001b[39;00m:\n\u001b[0;32m   1119\u001b[0m     \u001b[38;5;66;03m# re-raise KeyboardInterrupt, to truncate traceback\u001b[39;00m\n\u001b[1;32m-> 1120\u001b[0m     \u001b[38;5;28;01mraise\u001b[39;00m \u001b[38;5;167;01mKeyboardInterrupt\u001b[39;00m(\u001b[38;5;124m\"\u001b[39m\u001b[38;5;124mInterrupted by user\u001b[39m\u001b[38;5;124m\"\u001b[39m) \u001b[38;5;28;01mfrom\u001b[39;00m \u001b[38;5;28mNone\u001b[39m\n\u001b[0;32m   1121\u001b[0m \u001b[38;5;28;01mexcept\u001b[39;00m \u001b[38;5;167;01mException\u001b[39;00m:\n\u001b[0;32m   1122\u001b[0m     \u001b[38;5;28mself\u001b[39m\u001b[38;5;241m.\u001b[39mlog\u001b[38;5;241m.\u001b[39mwarning(\u001b[38;5;124m\"\u001b[39m\u001b[38;5;124mInvalid Message:\u001b[39m\u001b[38;5;124m\"\u001b[39m, exc_info\u001b[38;5;241m=\u001b[39m\u001b[38;5;28;01mTrue\u001b[39;00m)\n",
      "\u001b[1;31mKeyboardInterrupt\u001b[0m: Interrupted by user"
     ]
    }
   ],
   "source": [
    "def swap_numbers(a,b):\n",
    "    c=a\n",
    "    a=b\n",
    "    b=c\n",
    "    return a, b\n",
    "a=input(\"Enter the first number:\")\n",
    "b=input(\"Enter the second number:\")\n",
    "print(\"The numbers before swapping are:\", a,b)\n",
    "print(\"The numbers after swapping are:\", swap_numbers(a,b))"
   ]
  },
  {
   "cell_type": "code",
   "execution_count": 1,
   "id": "d3697434",
   "metadata": {},
   "outputs": [
    {
     "ename": "KeyboardInterrupt",
     "evalue": "Interrupted by user",
     "output_type": "error",
     "traceback": [
      "\u001b[1;31m---------------------------------------------------------------------------\u001b[0m",
      "\u001b[1;31mKeyboardInterrupt\u001b[0m                         Traceback (most recent call last)",
      "Input \u001b[1;32mIn [1]\u001b[0m, in \u001b[0;36m<cell line: 6>\u001b[1;34m()\u001b[0m\n\u001b[0;32m      4\u001b[0m     \u001b[38;5;28mprint\u001b[39m(\u001b[38;5;124m\"\u001b[39m\u001b[38;5;124mThe first number is:\u001b[39m\u001b[38;5;124m\"\u001b[39m, a)\n\u001b[0;32m      5\u001b[0m     \u001b[38;5;28mprint\u001b[39m(\u001b[38;5;124m\"\u001b[39m\u001b[38;5;124mThe second number is:\u001b[39m\u001b[38;5;124m\"\u001b[39m, b)\n\u001b[1;32m----> 6\u001b[0m a\u001b[38;5;241m=\u001b[39m\u001b[38;5;28;43minput\u001b[39;49m\u001b[43m(\u001b[49m\u001b[38;5;124;43m\"\u001b[39;49m\u001b[38;5;124;43mEnter the first number:\u001b[39;49m\u001b[38;5;124;43m\"\u001b[39;49m\u001b[43m)\u001b[49m\n\u001b[0;32m      7\u001b[0m b\u001b[38;5;241m=\u001b[39m\u001b[38;5;28minput\u001b[39m(\u001b[38;5;124m\"\u001b[39m\u001b[38;5;124mEnter the second number:\u001b[39m\u001b[38;5;124m\"\u001b[39m)\n\u001b[0;32m      8\u001b[0m \u001b[38;5;28mprint\u001b[39m(\u001b[38;5;124m\"\u001b[39m\u001b[38;5;124mBefore swap:\u001b[39m\u001b[38;5;124m\"\u001b[39m)\n",
      "File \u001b[1;32m~\\anaconda3\\lib\\site-packages\\ipykernel\\kernelbase.py:1075\u001b[0m, in \u001b[0;36mKernel.raw_input\u001b[1;34m(self, prompt)\u001b[0m\n\u001b[0;32m   1071\u001b[0m \u001b[38;5;28;01mif\u001b[39;00m \u001b[38;5;129;01mnot\u001b[39;00m \u001b[38;5;28mself\u001b[39m\u001b[38;5;241m.\u001b[39m_allow_stdin:\n\u001b[0;32m   1072\u001b[0m     \u001b[38;5;28;01mraise\u001b[39;00m StdinNotImplementedError(\n\u001b[0;32m   1073\u001b[0m         \u001b[38;5;124m\"\u001b[39m\u001b[38;5;124mraw_input was called, but this frontend does not support input requests.\u001b[39m\u001b[38;5;124m\"\u001b[39m\n\u001b[0;32m   1074\u001b[0m     )\n\u001b[1;32m-> 1075\u001b[0m \u001b[38;5;28;01mreturn\u001b[39;00m \u001b[38;5;28;43mself\u001b[39;49m\u001b[38;5;241;43m.\u001b[39;49m\u001b[43m_input_request\u001b[49m\u001b[43m(\u001b[49m\n\u001b[0;32m   1076\u001b[0m \u001b[43m    \u001b[49m\u001b[38;5;28;43mstr\u001b[39;49m\u001b[43m(\u001b[49m\u001b[43mprompt\u001b[49m\u001b[43m)\u001b[49m\u001b[43m,\u001b[49m\n\u001b[0;32m   1077\u001b[0m \u001b[43m    \u001b[49m\u001b[38;5;28;43mself\u001b[39;49m\u001b[38;5;241;43m.\u001b[39;49m\u001b[43m_parent_ident\u001b[49m\u001b[43m[\u001b[49m\u001b[38;5;124;43m\"\u001b[39;49m\u001b[38;5;124;43mshell\u001b[39;49m\u001b[38;5;124;43m\"\u001b[39;49m\u001b[43m]\u001b[49m\u001b[43m,\u001b[49m\n\u001b[0;32m   1078\u001b[0m \u001b[43m    \u001b[49m\u001b[38;5;28;43mself\u001b[39;49m\u001b[38;5;241;43m.\u001b[39;49m\u001b[43mget_parent\u001b[49m\u001b[43m(\u001b[49m\u001b[38;5;124;43m\"\u001b[39;49m\u001b[38;5;124;43mshell\u001b[39;49m\u001b[38;5;124;43m\"\u001b[39;49m\u001b[43m)\u001b[49m\u001b[43m,\u001b[49m\n\u001b[0;32m   1079\u001b[0m \u001b[43m    \u001b[49m\u001b[43mpassword\u001b[49m\u001b[38;5;241;43m=\u001b[39;49m\u001b[38;5;28;43;01mFalse\u001b[39;49;00m\u001b[43m,\u001b[49m\n\u001b[0;32m   1080\u001b[0m \u001b[43m\u001b[49m\u001b[43m)\u001b[49m\n",
      "File \u001b[1;32m~\\anaconda3\\lib\\site-packages\\ipykernel\\kernelbase.py:1120\u001b[0m, in \u001b[0;36mKernel._input_request\u001b[1;34m(self, prompt, ident, parent, password)\u001b[0m\n\u001b[0;32m   1117\u001b[0m             \u001b[38;5;28;01mbreak\u001b[39;00m\n\u001b[0;32m   1118\u001b[0m \u001b[38;5;28;01mexcept\u001b[39;00m \u001b[38;5;167;01mKeyboardInterrupt\u001b[39;00m:\n\u001b[0;32m   1119\u001b[0m     \u001b[38;5;66;03m# re-raise KeyboardInterrupt, to truncate traceback\u001b[39;00m\n\u001b[1;32m-> 1120\u001b[0m     \u001b[38;5;28;01mraise\u001b[39;00m \u001b[38;5;167;01mKeyboardInterrupt\u001b[39;00m(\u001b[38;5;124m\"\u001b[39m\u001b[38;5;124mInterrupted by user\u001b[39m\u001b[38;5;124m\"\u001b[39m) \u001b[38;5;28;01mfrom\u001b[39;00m \u001b[38;5;28mNone\u001b[39m\n\u001b[0;32m   1121\u001b[0m \u001b[38;5;28;01mexcept\u001b[39;00m \u001b[38;5;167;01mException\u001b[39;00m:\n\u001b[0;32m   1122\u001b[0m     \u001b[38;5;28mself\u001b[39m\u001b[38;5;241m.\u001b[39mlog\u001b[38;5;241m.\u001b[39mwarning(\u001b[38;5;124m\"\u001b[39m\u001b[38;5;124mInvalid Message:\u001b[39m\u001b[38;5;124m\"\u001b[39m, exc_info\u001b[38;5;241m=\u001b[39m\u001b[38;5;28;01mTrue\u001b[39;00m)\n",
      "\u001b[1;31mKeyboardInterrupt\u001b[0m: Interrupted by user"
     ]
    }
   ],
   "source": [
    "def swap_numbers(a,b):\n",
    "    a,b=b,a\n",
    "    print(\"After swapping:\")\n",
    "    print(\"The first number is:\", a)\n",
    "    print(\"The second number is:\", b)\n",
    "a=input(\"Enter the first number:\")\n",
    "b=input(\"Enter the second number:\")\n",
    "print(\"Before swap:\")\n",
    "print(\"The first number is:\",a)\n",
    "print(\"The second number is:\",b)\n",
    "swap_numbers(a,b)"
   ]
  },
  {
   "cell_type": "code",
   "execution_count": 6,
   "id": "4458db1e",
   "metadata": {},
   "outputs": [
    {
     "name": "stdout",
     "output_type": "stream",
     "text": [
      "The concatenated string will be: Hello World\n",
      "3\n"
     ]
    }
   ],
   "source": [
    "str01=\"Hello \"\n",
    "str02=\"World\"\n",
    "str03= str01+str02\n",
    "print(\"The concatenated string will be:\", str03)\n",
    "print(str01.rfind(\"l\",0,len(str01)))"
   ]
  },
  {
   "cell_type": "code",
   "execution_count": 9,
   "id": "195a7e1a",
   "metadata": {},
   "outputs": [
    {
     "name": "stdout",
     "output_type": "stream",
     "text": [
      "-000012334\n"
     ]
    }
   ],
   "source": [
    "str001=\"-12334\"\n",
    "print(str001.zfill(10))"
   ]
  },
  {
   "cell_type": "code",
   "execution_count": 22,
   "id": "9a2fe211",
   "metadata": {},
   "outputs": [
    {
     "name": "stdout",
     "output_type": "stream",
     "text": [
      "hell,owor,ldh, owr, eou\n",
      "w\n",
      " \n",
      "Hell,owor,ldh, owr, eou\n",
      "['hell', 'owor', 'ldh', ' owr', ' eou']\n"
     ]
    }
   ],
   "source": [
    "str002=\"hell,owor,ldh, owr, eou\"\n",
    "print(str002.strip())\n",
    "print(max(str002))\n",
    "print(min(str002))\n",
    "print(str002.replace(\"he\",\"He\"))\n",
    "print(str002.split(\",\"))"
   ]
  }
 ],
 "metadata": {
  "kernelspec": {
   "display_name": "Python 3 (ipykernel)",
   "language": "python",
   "name": "python3"
  },
  "language_info": {
   "codemirror_mode": {
    "name": "ipython",
    "version": 3
   },
   "file_extension": ".py",
   "mimetype": "text/x-python",
   "name": "python",
   "nbconvert_exporter": "python",
   "pygments_lexer": "ipython3",
   "version": "3.9.12"
  }
 },
 "nbformat": 4,
 "nbformat_minor": 5
}
